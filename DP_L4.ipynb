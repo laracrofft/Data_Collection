{
 "cells": [
  {
   "cell_type": "markdown",
   "id": "ba2ba501",
   "metadata": {},
   "source": [
    "1) Написать приложение, которое собирает основные новости с сайта на выбор news.mail.ru, lenta.ru, yandex-новости. Для парсинга использовать XPath. Структура данных должна содержать:\n",
    "\n",
    "        название источника;\n",
    "        наименование новости;\n",
    "        ссылку на новость;\n",
    "        дата публикации.\n",
    "        \n",
    "2) Сложить собранные новости в БД"
   ]
  },
  {
   "cell_type": "code",
   "execution_count": 94,
   "id": "d4880cd9",
   "metadata": {},
   "outputs": [],
   "source": [
    "from lxml import html\n",
    "import requests\n",
    "from pymongo import MongoClient\n",
    "from pprint import pprint"
   ]
  },
  {
   "cell_type": "code",
   "execution_count": 88,
   "id": "7b1ab01f",
   "metadata": {},
   "outputs": [],
   "source": [
    "news = []\n",
    "\n",
    "keys = ('title', 'date', 'link')\n",
    "lenta_url = 'https://lenta.ru/'\n",
    "\n",
    "request = requests.get(lenta_url)\n",
    "\n",
    "root = html.fromstring(request.text)\n",
    "root.make_links_absolute(lenta_url)\n",
    "\n",
    "news_links = root.xpath('''(//section[@class=\"row b-top7-for-main js-top-seven\"]//div[@class=\"first-item\"]/h2 | \n",
    "                            //section[@class=\"row b-top7-for-main js-top-seven\"]//div[@class=\"item\"])\n",
    "                            /a/@href''')\n",
    "\n",
    "news_text = root.xpath('''(//section[@class=\"row b-top7-for-main js-top-seven\"]//div[@class=\"first-item\"]/h2 | \n",
    "                            //section[@class=\"row b-top7-for-main js-top-seven\"]//div[@class=\"item\"])\n",
    "                            /a/text()''')\n",
    "\n",
    "news_datetime = root.xpath('''(//section[@class=\"row b-top7-for-main js-top-seven\"]//div[@class=\"first-item\"]/h2 | \n",
    "                            //section[@class=\"row b-top7-for-main js-top-seven\"]//div[@class=\"item\"])\n",
    "                            /a/time/@datetime''')\n",
    "\n",
    "for i in range(len(news_text)):\n",
    "    news_text[i] = news_text[i].replace(u'\\xa0', u' ')\n",
    "\n",
    "for item in list(zip(news_text, news_datetime, news_links)):\n",
    "    news_dict = {}\n",
    "    for key, value in zip(keys, item):\n",
    "        news_dict[key] = value\n",
    "\n",
    "    news_dict['source'] = 'lenta.ru'\n",
    "    news.append(news_dict)"
   ]
  },
  {
   "cell_type": "code",
   "execution_count": 95,
   "id": "88754357",
   "metadata": {},
   "outputs": [
    {
     "name": "stdout",
     "output_type": "stream",
     "text": [
      "[{'date': ' 16:12, 27 ноября 2021',\n",
      "  'link': 'https://lenta.ru/news/2021/11/27/bloomberg_speaks/',\n",
      "  'source': 'lenta.ru',\n",
      "  'title': 'В США увидели скрытый смысл в отправке российских военных к '\n",
      "           'границе с Украиной'},\n",
      " {'date': ' 19:26, 27 ноября 2021',\n",
      "  'link': 'https://lenta.ru/news/2021/11/27/britawards/',\n",
      "  'source': 'lenta.ru',\n",
      "  'title': 'Брайан Мэй раскритиковал культуру отмены и отказ от гендерных '\n",
      "           'номинаций'},\n",
      " {'date': ' 19:23, 27 ноября 2021',\n",
      "  'link': 'https://moslenta.ru/news/v-moskve-uvelichat-socialnye-vyplaty-semyam-s-detmi-27-11-2021.htm/?utm_source=from_lenta',\n",
      "  'source': 'lenta.ru',\n",
      "  'title': 'В Москве увеличат социальные выплаты семьям с детьми '},\n",
      " {'date': ' 19:18, 27 ноября 2021',\n",
      "  'link': 'https://lenta.ru/news/2021/11/27/catchomikron/',\n",
      "  'source': 'lenta.ru',\n",
      "  'title': 'ЮАР поделится с другими странами образцом нового штамма '\n",
      "           'коронавируса'},\n",
      " {'date': ' 18:44, 27 ноября 2021',\n",
      "  'link': 'https://lenta.ru/news/2021/11/27/effektivny/',\n",
      "  'source': 'lenta.ru',\n",
      "  'title': 'Оценена эффективность вакцин против нового штамма коронавируса'},\n",
      " {'date': ' 18:36, 27 ноября 2021',\n",
      "  'link': 'https://lenta.ru/news/2021/11/27/geniusofputin/',\n",
      "  'source': 'lenta.ru',\n",
      "  'title': 'В США призвали разморозить конфликты в Приднестровье и Южной '\n",
      "           'Осетии'},\n",
      " {'date': ' 18:05, 27 ноября 2021',\n",
      "  'link': 'https://lenta.ru/news/2021/11/27/again/',\n",
      "  'source': 'lenta.ru',\n",
      "  'title': 'Власти российского города высказались о катке в форме пениса'},\n",
      " {'date': ' 17:18, 27 ноября 2021',\n",
      "  'link': 'https://lenta.ru/news/2021/11/27/rodionov_rip/',\n",
      "  'source': 'lenta.ru',\n",
      "  'title': 'Умер 16-летний российский хоккеист'},\n",
      " {'date': ' 17:08, 27 ноября 2021',\n",
      "  'link': 'https://lenta.ru/news/2021/11/27/vilga/',\n",
      "  'source': 'lenta.ru',\n",
      "  'title': 'На Украине заявили о правах на Поволжье'},\n",
      " {'date': ' 16:02, 27 ноября 2021',\n",
      "  'link': 'https://lenta.ru/news/2021/11/27/cat_feed/',\n",
      "  'source': 'lenta.ru',\n",
      "  'title': 'Женщина покормила грудью кота в самолете'}]\n"
     ]
    }
   ],
   "source": [
    "pprint(news)"
   ]
  },
  {
   "cell_type": "code",
   "execution_count": 96,
   "id": "f2814023",
   "metadata": {},
   "outputs": [
    {
     "data": {
      "text/plain": [
       "<pymongo.results.InsertManyResult at 0x294da4fae00>"
      ]
     },
     "execution_count": 96,
     "metadata": {},
     "output_type": "execute_result"
    }
   ],
   "source": [
    "client = MongoClient('localhost', 27017)\n",
    "mongo_db = client['lentaru']\n",
    "topnews = mongo_db.topnews\n",
    "topnews.insert_many(news)"
   ]
  },
  {
   "cell_type": "markdown",
   "id": "5328638c",
   "metadata": {},
   "source": [
    "<img src=\"2021-11-27_19-45-19.png\" alt=\"Drawing\" style=\"width: 1000px;\">"
   ]
  },
  {
   "cell_type": "code",
   "execution_count": null,
   "id": "854e35f6",
   "metadata": {},
   "outputs": [],
   "source": []
  }
 ],
 "metadata": {
  "kernelspec": {
   "display_name": "Python 3",
   "language": "python",
   "name": "python3"
  },
  "language_info": {
   "codemirror_mode": {
    "name": "ipython",
    "version": 3
   },
   "file_extension": ".py",
   "mimetype": "text/x-python",
   "name": "python",
   "nbconvert_exporter": "python",
   "pygments_lexer": "ipython3",
   "version": "3.8.8"
  }
 },
 "nbformat": 4,
 "nbformat_minor": 5
}
