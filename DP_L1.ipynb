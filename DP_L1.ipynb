{
 "cells": [
  {
   "cell_type": "markdown",
   "id": "28d6d338",
   "metadata": {},
   "source": [
    "1) Посмотреть документацию к API GitHub, разобраться как вывести список репозиториев для конкретного пользователя, сохранить JSON-вывод в файле *.json"
   ]
  },
  {
   "cell_type": "code",
   "execution_count": 51,
   "id": "414d4c97",
   "metadata": {},
   "outputs": [],
   "source": [
    "import requests\n",
    "import json"
   ]
  },
  {
   "cell_type": "code",
   "execution_count": 2,
   "id": "0ad6e6ab",
   "metadata": {},
   "outputs": [],
   "source": [
    "url = 'https://api.github.com'\n",
    "user='laracrofft'"
   ]
  },
  {
   "cell_type": "code",
   "execution_count": 6,
   "id": "8073ec39",
   "metadata": {},
   "outputs": [],
   "source": [
    "response = requests.get(f'{url}/users/{user}/repos')"
   ]
  },
  {
   "cell_type": "code",
   "execution_count": 7,
   "id": "9592987c",
   "metadata": {},
   "outputs": [],
   "source": [
    "with open('data.json', 'w') as f:\n",
    "    json.dump(response.json(), f)"
   ]
  },
  {
   "cell_type": "code",
   "execution_count": 9,
   "id": "02c51890",
   "metadata": {},
   "outputs": [],
   "source": [
    "j_data = response.json"
   ]
  },
  {
   "cell_type": "code",
   "execution_count": 11,
   "id": "b3fced0f",
   "metadata": {},
   "outputs": [
    {
     "name": "stdout",
     "output_type": "stream",
     "text": [
      "GB_Python_1\n",
      "GB_SQL\n",
      "project_1\n",
      "Python_for_DS\n",
      "repo_lcfft\n"
     ]
    }
   ],
   "source": [
    "for i in j_data():\n",
    "    print(i['name'])"
   ]
  },
  {
   "cell_type": "markdown",
   "id": "8ae0a940",
   "metadata": {},
   "source": [
    "2) Изучить список открытых API (https://www.programmableweb.com/category/all/apis). Найти среди них любое, требующее авторизацию (любого типа). Выполнить запросы к нему, пройдя авторизацию. Ответ сервера записать в файл."
   ]
  },
  {
   "cell_type": "code",
   "execution_count": 46,
   "id": "ed52090d",
   "metadata": {},
   "outputs": [],
   "source": [
    "url = 'https://cloud-api.yandex.net/v1/disk/resources'\n",
    "token = 'AQAAAAA8oOwkAAeAEdY5Ot30DElzkajiBlMgtV8'\n",
    "path = 'disk:/Sample Pictures'"
   ]
  },
  {
   "cell_type": "code",
   "execution_count": 47,
   "id": "633146d2",
   "metadata": {},
   "outputs": [],
   "source": [
    "headers = {\n",
    "    'Content-Type': 'application/json',\n",
    "    'Authorization': token  \n",
    "}"
   ]
  },
  {
   "cell_type": "code",
   "execution_count": 48,
   "id": "4f32eb01",
   "metadata": {},
   "outputs": [
    {
     "data": {
      "text/plain": [
       "{'_embedded': {'sort': '',\n",
       "  'items': [{'antivirus_status': 'clean',\n",
       "    'size': 879394,\n",
       "    'comment_ids': {'private_resource': '1017179172:73d07af9db41c89531c7d880a6f12714385b26f280c2b6a1860b3b5e61f4f2e6',\n",
       "     'public_resource': '1017179172:73d07af9db41c89531c7d880a6f12714385b26f280c2b6a1860b3b5e61f4f2e6'},\n",
       "    'name': 'Chrysanthemum.jpg',\n",
       "    'exif': {},\n",
       "    'created': '2020-03-04T11:24:12+00:00',\n",
       "    'resource_id': '1017179172:73d07af9db41c89531c7d880a6f12714385b26f280c2b6a1860b3b5e61f4f2e6',\n",
       "    'modified': '2020-03-04T11:24:12+00:00',\n",
       "    'mime_type': 'image/jpeg',\n",
       "    'file': 'https://downloader.disk.yandex.ru/disk/6e74d6cd726eba79349420e16b642301496cc644c55b972c86ba5f73e517f00c/619121b3/0MrWcK-YMh7bxNyekGcCwXtbcf_y1BZ69-wQqFeUMaAXrM2FHRPbVpz2PCxGQSrlZrz9lD35qCqfYfLxrb87hg%3D%3D?uid=1017179172&filename=Chrysanthemum.jpg&disposition=attachment&hash=&limit=0&content_type=image%2Fjpeg&owner_uid=1017179172&fsize=879394&hid=687a507458e33d50e206768005f341d6&media_type=image&tknv=v2&etag=076e3caed758a1c18c91a0e9cae3368f',\n",
       "    'path': 'disk:/Sample Pictures/Chrysanthemum.jpg',\n",
       "    'media_type': 'image',\n",
       "    'sha256': '954f7d96502b5c5fe2e98a5045bca7f5e9ba11e3dbf92a5c0214a6aa4c7f2208',\n",
       "    'type': 'file',\n",
       "    'md5': '076e3caed758a1c18c91a0e9cae3368f',\n",
       "    'revision': 1583321052571375},\n",
       "   {'antivirus_status': 'clean',\n",
       "    'size': 845941,\n",
       "    'comment_ids': {'private_resource': '1017179172:558be630d933aa8d1abff82752ecee9984bca8f504575fe989c4db994eb21702',\n",
       "     'public_resource': '1017179172:558be630d933aa8d1abff82752ecee9984bca8f504575fe989c4db994eb21702'},\n",
       "    'name': 'Desert.jpg',\n",
       "    'exif': {},\n",
       "    'created': '2020-03-04T11:24:12+00:00',\n",
       "    'resource_id': '1017179172:558be630d933aa8d1abff82752ecee9984bca8f504575fe989c4db994eb21702',\n",
       "    'modified': '2020-03-04T11:24:12+00:00',\n",
       "    'mime_type': 'image/jpeg',\n",
       "    'file': 'https://downloader.disk.yandex.ru/disk/bbd544ffd37287f152ddcf9cc5190b454ccde8e6c642ad2f85781ce88925c60d/619121b3/N3965p-RRn_33cAHK26w1AY8E0mf50ZQhkx8AyeRxDeQ6d8KyRoVvFsx3T-DbVCHo4UamDAQs-OdiQ3ARkgsHQ%3D%3D?uid=1017179172&filename=Desert.jpg&disposition=attachment&hash=&limit=0&content_type=image%2Fjpeg&owner_uid=1017179172&fsize=845941&hid=19c28e03698bea87358ecbd45cdc0670&media_type=image&tknv=v2&etag=ba45c8f60456a672e003a875e469d0eb',\n",
       "    'media_type': 'image',\n",
       "    'preview': 'https://downloader.disk.yandex.ru/preview/7877a200dd3f52edfb3e13f5932f531ea31520325666df00cb9621bc9795b7b9/inf/N3965p-RRn_33cAHK26w1NshQ4jknW_rNI_uNT-2bJTDD8wh07N75nzHIIZMq196jBVRLs2I9OHBwto62olxxw%3D%3D?uid=1017179172&filename=Desert.jpg&disposition=inline&hash=&limit=0&content_type=image%2Fjpeg&owner_uid=1017179172&tknv=v2&size=S&crop=0',\n",
       "    'path': 'disk:/Sample Pictures/Desert.jpg',\n",
       "    'sha256': '010f60d2927a35d0235490136ef9f4953b7ee453073794bcaf153d20a64544ea',\n",
       "    'type': 'file',\n",
       "    'md5': 'ba45c8f60456a672e003a875e469d0eb',\n",
       "    'revision': 1583321052589914},\n",
       "   {'antivirus_status': 'clean',\n",
       "    'photoslice_time': '2008-03-24T12:41:53+00:00',\n",
       "    'comment_ids': {'private_resource': '1017179172:8b9bc833e7e05bc9e4d6fc7dd8363baffc43ca1fe8d918c68bb569e44021340c',\n",
       "     'public_resource': '1017179172:8b9bc833e7e05bc9e4d6fc7dd8363baffc43ca1fe8d918c68bb569e44021340c'},\n",
       "    'name': 'Hydrangeas.jpg',\n",
       "    'exif': {'date_time': '2008-03-24T12:41:53+00:00'},\n",
       "    'created': '2020-03-04T11:24:12+00:00',\n",
       "    'size': 595284,\n",
       "    'resource_id': '1017179172:8b9bc833e7e05bc9e4d6fc7dd8363baffc43ca1fe8d918c68bb569e44021340c',\n",
       "    'modified': '2020-03-04T11:24:12+00:00',\n",
       "    'mime_type': 'image/jpeg',\n",
       "    'file': 'https://downloader.disk.yandex.ru/disk/bfe9a19c8ba9d1e79e42cf730a86bd9cbe4dbb5972e4fb3f5edf005eca819aca/619121b3/WQWukXUd98oOLCvk0H6tkXtbcf_y1BZ69-wQqFeUMaDyQsehplmeslfF3mZhxBIHBy4aKqOYJcDs2s3uS9cWwA%3D%3D?uid=1017179172&filename=Hydrangeas.jpg&disposition=attachment&hash=&limit=0&content_type=image%2Fjpeg&owner_uid=1017179172&fsize=595284&hid=c3f57955d2b8ce515c1fa5f4c14e4c35&media_type=image&tknv=v2&etag=bdf3bf1da3405725be763540d6601144',\n",
       "    'media_type': 'image',\n",
       "    'preview': 'https://downloader.disk.yandex.ru/preview/7d9975e7c1c7d79e5c6a7b9fb958ef91b08dcc4ba322024f48561b880c093c1a/inf/aWsM5e3NZjRr6GexacAfp8eLQfCIblKyDtA4cQfVjDiTKLjehwl4CuRJ3MzyIWxL4dMWyA7ABQ5m3cJDP4XEYg%3D%3D?uid=1017179172&filename=Hydrangeas.jpg&disposition=inline&hash=&limit=0&content_type=image%2Fjpeg&owner_uid=1017179172&tknv=v2&size=S&crop=0',\n",
       "    'path': 'disk:/Sample Pictures/Hydrangeas.jpg',\n",
       "    'sha256': '3b92fede080f9b0ec902afc58831191b5b8ccbaf6732352fd7a8b445d1e9f0bd',\n",
       "    'type': 'file',\n",
       "    'md5': 'bdf3bf1da3405725be763540d6601144',\n",
       "    'revision': 1583321052939436},\n",
       "   {'antivirus_status': 'clean',\n",
       "    'size': 775702,\n",
       "    'comment_ids': {'private_resource': '1017179172:7c47a3c65315c8d4246e8ddbed2ea113b11b3987facb0638e03479499143e58d',\n",
       "     'public_resource': '1017179172:7c47a3c65315c8d4246e8ddbed2ea113b11b3987facb0638e03479499143e58d'},\n",
       "    'name': 'Jellyfish.jpg',\n",
       "    'exif': {},\n",
       "    'created': '2020-03-04T11:24:12+00:00',\n",
       "    'resource_id': '1017179172:7c47a3c65315c8d4246e8ddbed2ea113b11b3987facb0638e03479499143e58d',\n",
       "    'modified': '2020-03-04T11:24:12+00:00',\n",
       "    'mime_type': 'image/jpeg',\n",
       "    'file': 'https://downloader.disk.yandex.ru/disk/025ac30f9e3c4b75fe467010fe29674f52e9d36ca8be51efc3fcf9c99dfc03fe/619121b3/CekO6Ef7z4A_q_C0CzYvbXtbcf_y1BZ69-wQqFeUMaAxZlx1AY7OHSLcScPQ3wcFonrWOdZpAyC3bu_spEjKRg%3D%3D?uid=1017179172&filename=Jellyfish.jpg&disposition=attachment&hash=&limit=0&content_type=image%2Fjpeg&owner_uid=1017179172&fsize=775702&hid=d972d25cf13de838e32a1f2babfc2e35&media_type=image&tknv=v2&etag=5a44c7ba5bbe4ec867233d67e4806848',\n",
       "    'path': 'disk:/Sample Pictures/Jellyfish.jpg',\n",
       "    'media_type': 'image',\n",
       "    'sha256': '6ca0eafb20496edf23fc1480e8b545399f484a630698324be652ed10f45fa2fc',\n",
       "    'type': 'file',\n",
       "    'md5': '5a44c7ba5bbe4ec867233d67e4806848',\n",
       "    'revision': 1583321052490286},\n",
       "   {'antivirus_status': 'clean',\n",
       "    'photoslice_time': '2008-02-18T02:07:31+00:00',\n",
       "    'comment_ids': {'private_resource': '1017179172:ac505be9542a45efde8b60c720f47aefd0e41133df9fdb76be02385438f1414f',\n",
       "     'public_resource': '1017179172:ac505be9542a45efde8b60c720f47aefd0e41133df9fdb76be02385438f1414f'},\n",
       "    'name': 'Penguins.jpg',\n",
       "    'exif': {'date_time': '2008-02-18T02:07:31+00:00'},\n",
       "    'created': '2020-03-04T11:24:13+00:00',\n",
       "    'size': 777835,\n",
       "    'resource_id': '1017179172:ac505be9542a45efde8b60c720f47aefd0e41133df9fdb76be02385438f1414f',\n",
       "    'modified': '2020-03-04T11:24:13+00:00',\n",
       "    'mime_type': 'image/jpeg',\n",
       "    'file': 'https://downloader.disk.yandex.ru/disk/18e7b69fa5b7eff42c90bc8cb351ae667696a5bc35dec5bac6749136ed2feaa1/619121b3/SNKoIUr04-RKZ9LNZGzU4mRFpK4U8sTMiR9dPr8UoCo5ZuADxpos33usiD63QRVtq_J6bpmRyOJonT3VoXnDag%3D%3D?uid=1017179172&filename=Penguins.jpg&disposition=attachment&hash=&limit=0&content_type=image%2Fjpeg&owner_uid=1017179172&fsize=777835&hid=2505bb5eb491aaac1ded0bdec1088ea4&media_type=image&tknv=v2&etag=9d377b10ce778c4938b3c7e2c63a229a',\n",
       "    'media_type': 'image',\n",
       "    'preview': 'https://downloader.disk.yandex.ru/preview/8919ec8a240dfcf8cdfc261c1a68d620cb0473bbef4321db84d915d996510532/inf/xRqwR6AR0ddxuaAUUO56rXR89Ndwv3kerGYdAOnr-Gtd061WnLqYaiJ6ffpDK8MdUP05YBznZsA5Gp7tjmjHSg%3D%3D?uid=1017179172&filename=Penguins.jpg&disposition=inline&hash=&limit=0&content_type=image%2Fjpeg&owner_uid=1017179172&tknv=v2&size=S&crop=0',\n",
       "    'path': 'disk:/Sample Pictures/Penguins.jpg',\n",
       "    'sha256': '7e5bdd023b6cf21efe42a8ec90bc1993fc853980d4b564688e5ac2d28c64223c',\n",
       "    'type': 'file',\n",
       "    'md5': '9d377b10ce778c4938b3c7e2c63a229a',\n",
       "    'revision': 1583321053388711},\n",
       "   {'antivirus_status': 'clean',\n",
       "    'size': 620888,\n",
       "    'comment_ids': {'private_resource': '1017179172:add26fc71b454bcdc36e4113283464ae8449b230cb9838613b61003d3e5a535d',\n",
       "     'public_resource': '1017179172:add26fc71b454bcdc36e4113283464ae8449b230cb9838613b61003d3e5a535d'},\n",
       "    'name': 'Tulips.jpg',\n",
       "    'exif': {},\n",
       "    'created': '2020-03-04T11:24:13+00:00',\n",
       "    'resource_id': '1017179172:add26fc71b454bcdc36e4113283464ae8449b230cb9838613b61003d3e5a535d',\n",
       "    'modified': '2020-03-04T11:24:13+00:00',\n",
       "    'mime_type': 'image/jpeg',\n",
       "    'file': 'https://downloader.disk.yandex.ru/disk/5029c5045c4191da8d555a8866b5f64d406f3c33cc31b40fbff8ec87c36fdb51/619121b3/NE8vMP0xzuJcCVPQ76wqDvwBWQrmTOnQCr2BfkxJUQiYOUn0SW2GTRcjiKdBMpIyfgyiOrA1FPh_Hpq_rzqWPg%3D%3D?uid=1017179172&filename=Tulips.jpg&disposition=attachment&hash=&limit=0&content_type=image%2Fjpeg&owner_uid=1017179172&fsize=620888&hid=fd6a4f64e010fc68ddd3448694a0db0d&media_type=image&tknv=v2&etag=fafa5efeaf3cbe3b23b2748d13e629a1',\n",
       "    'path': 'disk:/Sample Pictures/Tulips.jpg',\n",
       "    'media_type': 'image',\n",
       "    'sha256': 'b9352f2565260219db72fc1fc896113a26c85866b69c50d3970c4d9f5cce830a',\n",
       "    'type': 'file',\n",
       "    'md5': 'fafa5efeaf3cbe3b23b2748d13e629a1',\n",
       "    'revision': 1583321053521829},\n",
       "   {'antivirus_status': 'clean',\n",
       "    'size': 561276,\n",
       "    'comment_ids': {'private_resource': '1017179172:999227fce13fbd4a935bf42d59c873d9dd8b501aeda689dad9141227ecba8ff3',\n",
       "     'public_resource': '1017179172:999227fce13fbd4a935bf42d59c873d9dd8b501aeda689dad9141227ecba8ff3'},\n",
       "    'name': 'heavy.jpg',\n",
       "    'exif': {},\n",
       "    'created': '2020-03-04T11:24:13+00:00',\n",
       "    'resource_id': '1017179172:999227fce13fbd4a935bf42d59c873d9dd8b501aeda689dad9141227ecba8ff3',\n",
       "    'modified': '2020-03-04T12:38:11+00:00',\n",
       "    'mime_type': 'image/jpeg',\n",
       "    'file': 'https://downloader.disk.yandex.ru/disk/1df27200cdae563a8b51c6a65fc3b1ba70268a7dd119a033b29bfdee1d427632/619121b3/Em-6V7zq75qRyNJki1RfesHHN8SGDlOH1JK26V3ksOeDi_rBbzC44J33_sKY2AvEynMDDrKP0nGf80CbL09RdA%3D%3D?uid=1017179172&filename=heavy.jpg&disposition=attachment&hash=&limit=0&content_type=image%2Fjpeg&owner_uid=1017179172&fsize=561276&hid=534fa11d7275ab6b456fedb30823be43&media_type=image&tknv=v2&etag=8969288f4245120e7c3870287cce0ff3',\n",
       "    'media_type': 'image',\n",
       "    'preview': 'https://downloader.disk.yandex.ru/preview/6b2a1ca3c0d5ef3caf446cd1caf62b1b2e3465bfb4169824f49458fe0555f336/inf/Em-6V7zq75qRyNJki1Rfei3Zi1b1YZa2tMqrJXMpsW7OaAq98esOlizIOHm1HYRuL-deGmbq3g5pesZGgBy9AA%3D%3D?uid=1017179172&filename=heavy.jpg&disposition=inline&hash=&limit=0&content_type=image%2Fjpeg&owner_uid=1017179172&tknv=v2&size=S&crop=0',\n",
       "    'path': 'disk:/Sample Pictures/heavy.jpg',\n",
       "    'sha256': 'ff86372ce43519d675b8d8d29c98e9ccbe905d400ba057c8544fa001fa4d8e73',\n",
       "    'type': 'file',\n",
       "    'md5': '8969288f4245120e7c3870287cce0ff3',\n",
       "    'revision': 1583325491155930}],\n",
       "  'limit': 20,\n",
       "  'offset': 0,\n",
       "  'path': 'disk:/Sample Pictures',\n",
       "  'total': 7},\n",
       " 'name': 'Sample Pictures',\n",
       " 'exif': {},\n",
       " 'resource_id': '1017179172:611a52f448eb8bfe4aa647d3a2ad7b677df6b6b2bb011c47c7aed490e60260d9',\n",
       " 'created': '2020-03-04T11:24:11+00:00',\n",
       " 'modified': '2020-03-04T11:24:11+00:00',\n",
       " 'path': 'disk:/Sample Pictures',\n",
       " 'comment_ids': {'private_resource': '1017179172:611a52f448eb8bfe4aa647d3a2ad7b677df6b6b2bb011c47c7aed490e60260d9',\n",
       "  'public_resource': '1017179172:611a52f448eb8bfe4aa647d3a2ad7b677df6b6b2bb011c47c7aed490e60260d9'},\n",
       " 'type': 'dir',\n",
       " 'revision': 1583321051898909}"
      ]
     },
     "execution_count": 48,
     "metadata": {},
     "output_type": "execute_result"
    }
   ],
   "source": [
    "disk = requests.get(f'{url}?path={path}', headers = headers)\n",
    "disk.json()"
   ]
  },
  {
   "cell_type": "code",
   "execution_count": 49,
   "id": "47d47c3e",
   "metadata": {},
   "outputs": [
    {
     "name": "stdout",
     "output_type": "stream",
     "text": [
      "Chrysanthemum.jpg\n",
      "Desert.jpg\n",
      "Hydrangeas.jpg\n",
      "Jellyfish.jpg\n",
      "Penguins.jpg\n",
      "Tulips.jpg\n",
      "heavy.jpg\n"
     ]
    }
   ],
   "source": [
    "# получаю имена файлов в папке\n",
    "\n",
    "for i in disk.json()['_embedded']['items']:\n",
    "    print(i['name'])"
   ]
  },
  {
   "cell_type": "code",
   "execution_count": 52,
   "id": "8f7db579",
   "metadata": {},
   "outputs": [],
   "source": [
    "with open('my_disk.json', 'w') as f:\n",
    "    json.dump(disk.json(), f)"
   ]
  },
  {
   "cell_type": "code",
   "execution_count": null,
   "id": "9bf73ecd",
   "metadata": {},
   "outputs": [],
   "source": []
  }
 ],
 "metadata": {
  "kernelspec": {
   "display_name": "Python 3",
   "language": "python",
   "name": "python3"
  },
  "language_info": {
   "codemirror_mode": {
    "name": "ipython",
    "version": 3
   },
   "file_extension": ".py",
   "mimetype": "text/x-python",
   "name": "python",
   "nbconvert_exporter": "python",
   "pygments_lexer": "ipython3",
   "version": "3.8.8"
  }
 },
 "nbformat": 4,
 "nbformat_minor": 5
}
